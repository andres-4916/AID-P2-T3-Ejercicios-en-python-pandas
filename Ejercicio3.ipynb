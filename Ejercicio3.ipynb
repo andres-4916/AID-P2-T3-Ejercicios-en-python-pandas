{
  "nbformat": 4,
  "nbformat_minor": 0,
  "metadata": {
    "colab": {
      "name": "Untitled28.ipynb",
      "provenance": [],
      "authorship_tag": "ABX9TyO+VRR4EHo3MS4lndsCw3Fw",
      "include_colab_link": true
    },
    "kernelspec": {
      "name": "python3",
      "display_name": "Python 3"
    },
    "language_info": {
      "name": "python"
    }
  },
  "cells": [
    {
      "cell_type": "markdown",
      "metadata": {
        "id": "view-in-github",
        "colab_type": "text"
      },
      "source": [
        "<a href=\"https://colab.research.google.com/github/andres-4916/AID-P2-T3-Ejercicios-en-python-pandas/blob/main/Ejercicio3.ipynb\" target=\"_parent\"><img src=\"https://colab.research.google.com/assets/colab-badge.svg\" alt=\"Open In Colab\"/></a>"
      ]
    },
    {
      "cell_type": "code",
      "metadata": {
        "colab": {
          "base_uri": "https://localhost:8080/"
        },
        "id": "uALA41n7SHcz",
        "outputId": "8e8f2665-158b-4aa9-89f2-3573042d7c7a"
      },
      "source": [
        "import pandas as pd\n",
        "\n",
        "def alum_aprobados(calif):\n",
        "    calif = pd.Series(calif)\n",
        "    return calif[calif >= 5].sort_values(ascending=False)\n",
        "\n",
        "calif = {'Juan Valle':5.1, 'Giovanny Dzul':9.5, 'Jesus Cua':7, 'Erick Matos': 8.5, 'Miguel Salvador': 6 }\n",
        "print(alum_aprobados(calif))"
      ],
      "execution_count": 20,
      "outputs": [
        {
          "output_type": "stream",
          "text": [
            "Giovanny Dzul      9.5\n",
            "Erick Matos        8.5\n",
            "Jesus Cua          7.0\n",
            "Miguel Salvador    6.0\n",
            "Juan Valle         5.1\n",
            "dtype: float64\n"
          ],
          "name": "stdout"
        }
      ]
    }
  ]
}