{
  "nbformat": 4,
  "nbformat_minor": 0,
  "metadata": {
    "colab": {
      "name": "Untitled28.ipynb",
      "provenance": [],
      "authorship_tag": "ABX9TyPveZouv3AKtnR5G61EGJpu",
      "include_colab_link": true
    },
    "kernelspec": {
      "name": "python3",
      "display_name": "Python 3"
    },
    "language_info": {
      "name": "python"
    }
  },
  "cells": [
    {
      "cell_type": "markdown",
      "metadata": {
        "id": "view-in-github",
        "colab_type": "text"
      },
      "source": [
        "<a href=\"https://colab.research.google.com/github/andres-4916/AID-P2-T3-Ejercicios-en-python-pandas/blob/main/Ejercicio2.ipynb\" target=\"_parent\"><img src=\"https://colab.research.google.com/assets/colab-badge.svg\" alt=\"Open In Colab\"/></a>"
      ]
    },
    {
      "cell_type": "code",
      "metadata": {
        "colab": {
          "base_uri": "https://localhost:8080/"
        },
        "id": "uALA41n7SHcz",
        "outputId": "387f7dd3-c0af-4e3c-925b-f8d335fe596c"
      },
      "source": [
        "import pandas as pd\n",
        "\n",
        "def estad_calificaciones(calif):\n",
        "    calif = pd.Series(calif)\n",
        "    estadistica = pd.Series([calif.min(), calif.max(), calif.mean(), calif.std()], index=['Minima', 'Maxima', 'Media', 'Desviación típica'])\n",
        "    return estadistica\n",
        "\n",
        "calif = {'Juan Valle':5.1, 'Giovanny Dzul':9.5, 'Jesus Cua':7, 'Erick Matos': 8.5, 'Miguel Salvador': 6}\n",
        "print(estad_calificaciones(calif))"
      ],
      "execution_count": 25,
      "outputs": [
        {
          "output_type": "stream",
          "text": [
            "Minima               5.1000\n",
            "Maxima               9.5000\n",
            "Media                7.2200\n",
            "Desviación típica    1.7936\n",
            "dtype: float64\n"
          ],
          "name": "stdout"
        }
      ]
    }
  ]
}