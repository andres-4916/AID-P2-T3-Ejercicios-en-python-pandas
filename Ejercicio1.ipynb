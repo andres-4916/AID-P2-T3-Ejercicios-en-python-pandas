{
  "nbformat": 4,
  "nbformat_minor": 0,
  "metadata": {
    "colab": {
      "name": "Untitled28.ipynb",
      "provenance": [],
      "authorship_tag": "ABX9TyP7Pj8TU58YVuD0SikwMwa4",
      "include_colab_link": true
    },
    "kernelspec": {
      "name": "python3",
      "display_name": "Python 3"
    },
    "language_info": {
      "name": "python"
    }
  },
  "cells": [
    {
      "cell_type": "markdown",
      "metadata": {
        "id": "view-in-github",
        "colab_type": "text"
      },
      "source": [
        "<a href=\"https://colab.research.google.com/github/andres-4916/AID-P2-T3-Ejercicios-en-python-pandas/blob/main/Ejercicio1.ipynb\" target=\"_parent\"><img src=\"https://colab.research.google.com/assets/colab-badge.svg\" alt=\"Open In Colab\"/></a>"
      ]
    },
    {
      "cell_type": "code",
      "metadata": {
        "colab": {
          "base_uri": "https://localhost:8080/"
        },
        "id": "uALA41n7SHcz",
        "outputId": "8a6f007a-5664-4d9d-9bea-42fd091dc9cf"
      },
      "source": [
        "import pandas as pd\n",
        "\n",
        "ini = int(input('Introduce el año inicial: '))\n",
        "fin = int(input('Introduce el año final: '))\n",
        "ventas = {}\n",
        "for i in range(ini, fin+1):\n",
        "    ventas[i] = float(input('Introduce las ventas del año ' + str(i) +': '))\n",
        "ventas = pd.Series(ventas)\n",
        "print('Ventas\\n', ventas)\n",
        "print('Ventas con descuento\\n', ventas*0.9)"
      ],
      "execution_count": 26,
      "outputs": [
        {
          "output_type": "stream",
          "text": [
            "Introduce el año inicial: 2009\n",
            "Introduce el año final: 2012\n",
            "Introduce las ventas del año 2009: 1000\n",
            "Introduce las ventas del año 2010: 200\n",
            "Introduce las ventas del año 2011: 25\n",
            "Introduce las ventas del año 2012: 1245\n",
            "Ventas\n",
            " 2009    1000.0\n",
            "2010     200.0\n",
            "2011      25.0\n",
            "2012    1245.0\n",
            "dtype: float64\n",
            "Ventas con descuento\n",
            " 2009     900.0\n",
            "2010     180.0\n",
            "2011      22.5\n",
            "2012    1120.5\n",
            "dtype: float64\n"
          ],
          "name": "stdout"
        }
      ]
    }
  ]
}