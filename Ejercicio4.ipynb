{
  "nbformat": 4,
  "nbformat_minor": 0,
  "metadata": {
    "colab": {
      "name": "Untitled28.ipynb",
      "provenance": [],
      "authorship_tag": "ABX9TyNbTfmi/u9BEwBvM0kCHV6f",
      "include_colab_link": true
    },
    "kernelspec": {
      "name": "python3",
      "display_name": "Python 3"
    },
    "language_info": {
      "name": "python"
    }
  },
  "cells": [
    {
      "cell_type": "markdown",
      "metadata": {
        "id": "view-in-github",
        "colab_type": "text"
      },
      "source": [
        "<a href=\"https://colab.research.google.com/github/andres-4916/AID-P2-T3-Ejercicios-en-python-pandas/blob/main/Ejercicio4.ipynb\" target=\"_parent\"><img src=\"https://colab.research.google.com/assets/colab-badge.svg\" alt=\"Open In Colab\"/></a>"
      ]
    },
    {
      "cell_type": "code",
      "metadata": {
        "colab": {
          "base_uri": "https://localhost:8080/"
        },
        "id": "soAazn4LQC34",
        "outputId": "c23baa84-b370-4413-8980-f51772cfbbd1"
      },
      "source": [
        "import pandas as pd\n",
        "\n",
        "datos = [['Enero', 30500, 22000], ['Febrero', 35600, 23400], ['Marzo', 28300, 18100], ['Abril', 33900,20700]]\n",
        "contabilidad = pd.DataFrame(datos, columns=['Mes', 'Ventas', 'Gastos'])\n",
        "print(contabilidad)"
      ],
      "execution_count": 4,
      "outputs": [
        {
          "output_type": "stream",
          "text": [
            "       Mes  Ventas  Gastos\n",
            "0    Enero   30500   22000\n",
            "1  Febrero   35600   23400\n",
            "2    Marzo   28300   18100\n",
            "3    Abril   33900   20700\n"
          ],
          "name": "stdout"
        }
      ]
    }
  ]
}